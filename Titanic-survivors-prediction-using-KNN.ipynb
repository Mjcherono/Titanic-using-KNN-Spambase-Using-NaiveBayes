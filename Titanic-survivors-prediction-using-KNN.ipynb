{
  "nbformat": 4,
  "nbformat_minor": 0,
  "metadata": {
    "colab": {
      "name": "Copy of Copy of Copy of IPTemplate.ipynb",
      "provenance": [],
      "collapsed_sections": [],
      "authorship_tag": "ABX9TyPvlDYEWW72eGOSJ30o3KqN",
      "include_colab_link": true
    },
    "kernelspec": {
      "name": "python3",
      "display_name": "Python 3"
    }
  },
  "cells": [
    {
      "cell_type": "markdown",
      "metadata": {
        "id": "view-in-github",
        "colab_type": "text"
      },
      "source": [
        "<a href=\"https://colab.research.google.com/github/Mjcherono/Titanic-using-KNN-Spambase-Using-NaiveBayes/blob/main/Titanic-survivors-prediction-using-KNN.ipynb\" target=\"_parent\"><img src=\"https://colab.research.google.com/assets/colab-badge.svg\" alt=\"Open In Colab\"/></a>"
      ]
    },
    {
      "cell_type": "markdown",
      "metadata": {
        "id": "ZTQ5FUajel5D"
      },
      "source": [
        "###Defining the Question"
      ]
    },
    {
      "cell_type": "markdown",
      "metadata": {
        "id": "z3nTO4H9ellI"
      },
      "source": [
        "####a. Specifying the Question\n",
        "\n",
        "\n",
        "*   On this project, I will be using the Titanic train and test datasets and KNN Model to make predictions on the Survivors of the incidence and also try identifying influencial features in the dataset.\n",
        "\n",
        "\n"
      ]
    },
    {
      "cell_type": "markdown",
      "metadata": {
        "id": "n38v0IPCe8U3"
      },
      "source": [
        "#### b.Defining the metric for success.\n",
        "\n",
        "\n",
        "*   Aiming to identify the features that influenced the number of Survivors\n",
        "*   Using titanic dataset I also aim at training my KNN model and even doing some parameter tuning to achieve a relatively high accuracy on the classification report after doing a prediction.\n",
        "\n"
      ]
    },
    {
      "cell_type": "markdown",
      "metadata": {
        "id": "nqZuY6VZf040"
      },
      "source": [
        "####c.Recording the Experimental Design\n",
        "\n",
        "\n",
        "*   Loading necessary Libraries and Dataset.\n",
        "*   Doing some data preprocessing for my data to make it efficient for my analysis and modelling.\n",
        "*   Do Exploratory Data Analysis to understand my data better.\n",
        "*   Finally;\n",
        "\n",
        " Train my base model.\n",
        "\n",
        " Hyperparameter Tune my model.\n",
        "\n",
        " Train my tuned model again in splits of 30/70 and 40/60\n",
        "*   Make Predictions and check on classification report to see which split performed better.\n",
        "\n",
        "\n",
        "\n",
        "\n",
        "\n",
        "\n",
        "\n",
        "\n",
        "\n",
        "\n"
      ]
    },
    {
      "cell_type": "markdown",
      "metadata": {
        "id": "tf7aA7XngFiD"
      },
      "source": [
        "####d.Data .\n",
        "\n",
        "\n",
        "*   The titanic dataset came in two sets; a train set with 889 columns and 9 rows used for training the model and a test set with 417 rows and 7 columns used to evaluate the model.\n",
        "*   The important feature in the dataset is the Survivors column which will be the label during our training bit and is the missing one in the test set so we will be predicting it.\n",
        "\n"
      ]
    },
    {
      "cell_type": "markdown",
      "metadata": {
        "id": "zMz6oXw2gWfS"
      },
      "source": [
        "####e.Appropriateness of Data\n",
        "\n",
        "\n",
        "*   All the provided features are relevant for our study appart from a few ; the name and ID which don't contribute much to survival.\n",
        "*   The nuber of entries are close to 900 which is sufficient data to train a model\n",
        "\n"
      ]
    },
    {
      "cell_type": "markdown",
      "metadata": {
        "id": "qRiBbneahNIQ"
      },
      "source": [
        "###Importing Data"
      ]
    },
    {
      "cell_type": "code",
      "metadata": {
        "id": "6ceakp8Vcokk"
      },
      "source": [
        "#importing libraries\n",
        "import numpy as np\n",
        "import matplotlib.pyplot as plt\n",
        "import pandas as pd\n",
        "import matplotlib.pyplot as plt\n",
        "import seaborn as sns\n",
        "from sklearn.model_selection import train_test_split\n",
        "from sklearn.preprocessing import StandardScaler\n",
        "from sklearn.metrics import classification_report, confusion_matrix"
      ],
      "execution_count": 88,
      "outputs": []
    },
    {
      "cell_type": "code",
      "metadata": {
        "id": "cHKXhJ8ghiuj"
      },
      "source": [
        "#importing data\n",
        "titanic_train = pd.read_csv('/content/train (5).csv')\n",
        "titanic_test = pd.read_csv('/content/test (1).csv')"
      ],
      "execution_count": 89,
      "outputs": []
    },
    {
      "cell_type": "code",
      "metadata": {
        "id": "nD87plEShjTk",
        "colab": {
          "base_uri": "https://localhost:8080/"
        },
        "outputId": "1a9081cf-b179-4c5e-cd17-db38300aeeca"
      },
      "source": [
        "#checking on data\n",
        "print(titanic_train.head(5))\n",
        "print(titanic_test.head(5))\n"
      ],
      "execution_count": 90,
      "outputs": [
        {
          "output_type": "stream",
          "text": [
            "   PassengerId  Survived  Pclass  ...     Fare Cabin  Embarked\n",
            "0            1         0       3  ...   7.2500   NaN         S\n",
            "1            2         1       1  ...  71.2833   C85         C\n",
            "2            3         1       3  ...   7.9250   NaN         S\n",
            "3            4         1       1  ...  53.1000  C123         S\n",
            "4            5         0       3  ...   8.0500   NaN         S\n",
            "\n",
            "[5 rows x 12 columns]\n",
            "   PassengerId  Pclass  ... Cabin Embarked\n",
            "0          892       3  ...   NaN        Q\n",
            "1          893       3  ...   NaN        S\n",
            "2          894       2  ...   NaN        Q\n",
            "3          895       3  ...   NaN        S\n",
            "4          896       3  ...   NaN        S\n",
            "\n",
            "[5 rows x 11 columns]\n"
          ],
          "name": "stdout"
        }
      ]
    },
    {
      "cell_type": "code",
      "metadata": {
        "colab": {
          "base_uri": "https://localhost:8080/"
        },
        "id": "liiP6TLCyYe8",
        "outputId": "b70dfaf3-4733-42ce-8607-ce48dc664ad2"
      },
      "source": [
        "#checking on tails\n",
        "print(titanic_train.tail(5))\n",
        "print(titanic_test.tail(5))"
      ],
      "execution_count": 91,
      "outputs": [
        {
          "output_type": "stream",
          "text": [
            "     PassengerId  Survived  Pclass  ...   Fare Cabin  Embarked\n",
            "886          887         0       2  ...  13.00   NaN         S\n",
            "887          888         1       1  ...  30.00   B42         S\n",
            "888          889         0       3  ...  23.45   NaN         S\n",
            "889          890         1       1  ...  30.00  C148         C\n",
            "890          891         0       3  ...   7.75   NaN         Q\n",
            "\n",
            "[5 rows x 12 columns]\n",
            "     PassengerId  Pclass                          Name  ...      Fare  Cabin  Embarked\n",
            "413         1305       3            Spector, Mr. Woolf  ...    8.0500    NaN         S\n",
            "414         1306       1  Oliva y Ocana, Dona. Fermina  ...  108.9000   C105         C\n",
            "415         1307       3  Saether, Mr. Simon Sivertsen  ...    7.2500    NaN         S\n",
            "416         1308       3           Ware, Mr. Frederick  ...    8.0500    NaN         S\n",
            "417         1309       3      Peter, Master. Michael J  ...   22.3583    NaN         C\n",
            "\n",
            "[5 rows x 11 columns]\n"
          ],
          "name": "stdout"
        }
      ]
    },
    {
      "cell_type": "code",
      "metadata": {
        "id": "XWYTFqFjhj4j",
        "colab": {
          "base_uri": "https://localhost:8080/"
        },
        "outputId": "51f5bc4a-03cd-48f5-b3d1-2a0e409ea508"
      },
      "source": [
        "#data types\n",
        "titanic_train.dtypes"
      ],
      "execution_count": 92,
      "outputs": [
        {
          "output_type": "execute_result",
          "data": {
            "text/plain": [
              "PassengerId      int64\n",
              "Survived         int64\n",
              "Pclass           int64\n",
              "Name            object\n",
              "Sex             object\n",
              "Age            float64\n",
              "SibSp            int64\n",
              "Parch            int64\n",
              "Ticket          object\n",
              "Fare           float64\n",
              "Cabin           object\n",
              "Embarked        object\n",
              "dtype: object"
            ]
          },
          "metadata": {
            "tags": []
          },
          "execution_count": 92
        }
      ]
    },
    {
      "cell_type": "code",
      "metadata": {
        "colab": {
          "base_uri": "https://localhost:8080/"
        },
        "id": "8hmny-JQygAb",
        "outputId": "ab916eb4-1bec-4a04-8527-a1567a1105e1"
      },
      "source": [
        "titanic_test.dtypes"
      ],
      "execution_count": 93,
      "outputs": [
        {
          "output_type": "execute_result",
          "data": {
            "text/plain": [
              "PassengerId      int64\n",
              "Pclass           int64\n",
              "Name            object\n",
              "Sex             object\n",
              "Age            float64\n",
              "SibSp            int64\n",
              "Parch            int64\n",
              "Ticket          object\n",
              "Fare           float64\n",
              "Cabin           object\n",
              "Embarked        object\n",
              "dtype: object"
            ]
          },
          "metadata": {
            "tags": []
          },
          "execution_count": 93
        }
      ]
    },
    {
      "cell_type": "code",
      "metadata": {
        "id": "fxXtWdCDhkY-",
        "colab": {
          "base_uri": "https://localhost:8080/"
        },
        "outputId": "ac099992-a9f6-4d04-eede-48fe830e62e0"
      },
      "source": [
        "#description\n",
        "print(titanic_train.describe())\n",
        "print(titanic_test.describe())\n"
      ],
      "execution_count": 94,
      "outputs": [
        {
          "output_type": "stream",
          "text": [
            "       PassengerId    Survived      Pclass  ...       SibSp       Parch        Fare\n",
            "count   891.000000  891.000000  891.000000  ...  891.000000  891.000000  891.000000\n",
            "mean    446.000000    0.383838    2.308642  ...    0.523008    0.381594   32.204208\n",
            "std     257.353842    0.486592    0.836071  ...    1.102743    0.806057   49.693429\n",
            "min       1.000000    0.000000    1.000000  ...    0.000000    0.000000    0.000000\n",
            "25%     223.500000    0.000000    2.000000  ...    0.000000    0.000000    7.910400\n",
            "50%     446.000000    0.000000    3.000000  ...    0.000000    0.000000   14.454200\n",
            "75%     668.500000    1.000000    3.000000  ...    1.000000    0.000000   31.000000\n",
            "max     891.000000    1.000000    3.000000  ...    8.000000    6.000000  512.329200\n",
            "\n",
            "[8 rows x 7 columns]\n",
            "       PassengerId      Pclass         Age       SibSp       Parch        Fare\n",
            "count   418.000000  418.000000  332.000000  418.000000  418.000000  417.000000\n",
            "mean   1100.500000    2.265550   30.272590    0.447368    0.392344   35.627188\n",
            "std     120.810458    0.841838   14.181209    0.896760    0.981429   55.907576\n",
            "min     892.000000    1.000000    0.170000    0.000000    0.000000    0.000000\n",
            "25%     996.250000    1.000000   21.000000    0.000000    0.000000    7.895800\n",
            "50%    1100.500000    3.000000   27.000000    0.000000    0.000000   14.454200\n",
            "75%    1204.750000    3.000000   39.000000    1.000000    0.000000   31.500000\n",
            "max    1309.000000    3.000000   76.000000    8.000000    9.000000  512.329200\n"
          ],
          "name": "stdout"
        }
      ]
    },
    {
      "cell_type": "code",
      "metadata": {
        "colab": {
          "base_uri": "https://localhost:8080/"
        },
        "id": "308c-PqL2LHp",
        "outputId": "17c38141-655c-47ab-80fa-22901c0cec6d"
      },
      "source": [
        "titanic_train.shape\n"
      ],
      "execution_count": 95,
      "outputs": [
        {
          "output_type": "execute_result",
          "data": {
            "text/plain": [
              "(891, 12)"
            ]
          },
          "metadata": {
            "tags": []
          },
          "execution_count": 95
        }
      ]
    },
    {
      "cell_type": "code",
      "metadata": {
        "id": "CKKlmdEJhkI_",
        "colab": {
          "base_uri": "https://localhost:8080/"
        },
        "outputId": "585b7ee4-dd65-4638-903b-bcda988ddb6d"
      },
      "source": [
        "#\n",
        "titanic_test.shape\n"
      ],
      "execution_count": 96,
      "outputs": [
        {
          "output_type": "execute_result",
          "data": {
            "text/plain": [
              "(418, 11)"
            ]
          },
          "metadata": {
            "tags": []
          },
          "execution_count": 96
        }
      ]
    },
    {
      "cell_type": "markdown",
      "metadata": {
        "id": "17GDfJEdhcV0"
      },
      "source": [
        "###Data Preprocessing."
      ]
    },
    {
      "cell_type": "markdown",
      "metadata": {
        "id": "pPL97A6d8HVT"
      },
      "source": [
        "####i.Completeness\n",
        "*   Ensuring that there were no null values in the dataset.\n",
        "\n"
      ]
    },
    {
      "cell_type": "code",
      "metadata": {
        "id": "DSftrw_ShiI-",
        "colab": {
          "base_uri": "https://localhost:8080/"
        },
        "outputId": "c104ba35-c199-4e28-8278-9210d689c59d"
      },
      "source": [
        "#checking for null values titanic dataset\n",
        "print(titanic_train.isnull().sum())\n",
        "print(titanic_test.isnull().sum())\n"
      ],
      "execution_count": 97,
      "outputs": [
        {
          "output_type": "stream",
          "text": [
            "PassengerId      0\n",
            "Survived         0\n",
            "Pclass           0\n",
            "Name             0\n",
            "Sex              0\n",
            "Age            177\n",
            "SibSp            0\n",
            "Parch            0\n",
            "Ticket           0\n",
            "Fare             0\n",
            "Cabin          687\n",
            "Embarked         2\n",
            "dtype: int64\n",
            "PassengerId      0\n",
            "Pclass           0\n",
            "Name             0\n",
            "Sex              0\n",
            "Age             86\n",
            "SibSp            0\n",
            "Parch            0\n",
            "Ticket           0\n",
            "Fare             1\n",
            "Cabin          327\n",
            "Embarked         0\n",
            "dtype: int64\n"
          ],
          "name": "stdout"
        }
      ]
    },
    {
      "cell_type": "code",
      "metadata": {
        "id": "sAKpMf5U1O-M"
      },
      "source": [
        "#dealing with null values\n",
        "#do away with the cabin column it has too many null values\n",
        "titanic_train.drop('Cabin',axis=1, inplace=True)\n",
        "titanic_test.drop('Cabin',axis=1, inplace=True)"
      ],
      "execution_count": 98,
      "outputs": []
    },
    {
      "cell_type": "code",
      "metadata": {
        "id": "BkYVZI701Oze"
      },
      "source": [
        "titanic_train = titanic_train.dropna(axis=0, subset=['Embarked'])\n",
        "titanic_test = titanic_test.dropna(axis=0, subset=['Fare'])\n"
      ],
      "execution_count": 99,
      "outputs": []
    },
    {
      "cell_type": "code",
      "metadata": {
        "colab": {
          "base_uri": "https://localhost:8080/"
        },
        "id": "FN621kR84mcl",
        "outputId": "84eb83fc-9b1c-4e3e-961f-4f7190fb963d"
      },
      "source": [
        "print(titanic_train.isnull().sum())\n",
        "print(titanic_test.isnull().sum())\n"
      ],
      "execution_count": 100,
      "outputs": [
        {
          "output_type": "stream",
          "text": [
            "PassengerId      0\n",
            "Survived         0\n",
            "Pclass           0\n",
            "Name             0\n",
            "Sex              0\n",
            "Age            177\n",
            "SibSp            0\n",
            "Parch            0\n",
            "Ticket           0\n",
            "Fare             0\n",
            "Embarked         0\n",
            "dtype: int64\n",
            "PassengerId     0\n",
            "Pclass          0\n",
            "Name            0\n",
            "Sex             0\n",
            "Age            86\n",
            "SibSp           0\n",
            "Parch           0\n",
            "Ticket          0\n",
            "Fare            0\n",
            "Embarked        0\n",
            "dtype: int64\n"
          ],
          "name": "stdout"
        }
      ]
    },
    {
      "cell_type": "code",
      "metadata": {
        "id": "pZS3RXqB4m_7"
      },
      "source": [
        "#Substituting missing values at age column with median age median\n",
        "\n",
        "titanic_train['Age'].fillna(titanic_train['Age'].median(),inplace=True)\n",
        "titanic_test['Age'].fillna(titanic_test['Age'].median(),inplace=True)"
      ],
      "execution_count": 101,
      "outputs": []
    },
    {
      "cell_type": "code",
      "metadata": {
        "colab": {
          "base_uri": "https://localhost:8080/"
        },
        "id": "bFz6A2Rd8sCT",
        "outputId": "76ab9119-5fbf-49bb-8916-ae69ff33f5b5"
      },
      "source": [
        "print(titanic_train.isnull().sum())\n",
        "print(titanic_test.isnull().sum())\n"
      ],
      "execution_count": 102,
      "outputs": [
        {
          "output_type": "stream",
          "text": [
            "PassengerId    0\n",
            "Survived       0\n",
            "Pclass         0\n",
            "Name           0\n",
            "Sex            0\n",
            "Age            0\n",
            "SibSp          0\n",
            "Parch          0\n",
            "Ticket         0\n",
            "Fare           0\n",
            "Embarked       0\n",
            "dtype: int64\n",
            "PassengerId    0\n",
            "Pclass         0\n",
            "Name           0\n",
            "Sex            0\n",
            "Age            0\n",
            "SibSp          0\n",
            "Parch          0\n",
            "Ticket         0\n",
            "Fare           0\n",
            "Embarked       0\n",
            "dtype: int64\n"
          ],
          "name": "stdout"
        }
      ]
    },
    {
      "cell_type": "markdown",
      "metadata": {
        "id": "yK4FcGP88rLz"
      },
      "source": [
        "####ii. Consistency.\n",
        "*   Checking for any duplicated values and dropping them if found but the dataset didn't have any.\n",
        "\n"
      ]
    },
    {
      "cell_type": "code",
      "metadata": {
        "id": "OUu5Cs80jJqI",
        "colab": {
          "base_uri": "https://localhost:8080/"
        },
        "outputId": "d57991e5-8ca9-4c46-cffd-b5e3ab78f549"
      },
      "source": [
        "#checking for duplicates\n",
        "titanic_train.duplicated().sum()\n",
        "titanic_test.duplicated().sum()\n"
      ],
      "execution_count": 103,
      "outputs": [
        {
          "output_type": "execute_result",
          "data": {
            "text/plain": [
              "0"
            ]
          },
          "metadata": {
            "tags": []
          },
          "execution_count": 103
        }
      ]
    },
    {
      "cell_type": "code",
      "metadata": {
        "colab": {
          "base_uri": "https://localhost:8080/"
        },
        "id": "OZEhU_jpCVVh",
        "outputId": "6053975d-8c22-4291-bfc4-229f3bb9112e"
      },
      "source": [
        "titanic_train.columns"
      ],
      "execution_count": 104,
      "outputs": [
        {
          "output_type": "execute_result",
          "data": {
            "text/plain": [
              "Index(['PassengerId', 'Survived', 'Pclass', 'Name', 'Sex', 'Age', 'SibSp',\n",
              "       'Parch', 'Ticket', 'Fare', 'Embarked'],\n",
              "      dtype='object')"
            ]
          },
          "metadata": {
            "tags": []
          },
          "execution_count": 104
        }
      ]
    },
    {
      "cell_type": "markdown",
      "metadata": {
        "id": "bmS8uX229Cz3"
      },
      "source": [
        "####iii. Relevance/Valididty.\n",
        "*   Ensuring that the features available for to train the model are relevant. I dropped the PassengerId,Name and Ticket columns.\n",
        "\n"
      ]
    },
    {
      "cell_type": "code",
      "metadata": {
        "id": "GcxL3ZOxCUVD"
      },
      "source": [
        "#Drop irrelevant columns\n",
        "titanic_train.drop(['PassengerId','Name','Ticket'],axis=1,inplace=True)\n",
        "titanic_test.drop(['PassengerId','Name','Ticket'],axis=1,inplace=True)"
      ],
      "execution_count": 105,
      "outputs": []
    },
    {
      "cell_type": "code",
      "metadata": {
        "colab": {
          "base_uri": "https://localhost:8080/"
        },
        "id": "J4k9Am2XCqpD",
        "outputId": "26b6cc2e-faa0-46d2-c76f-b9dc1b1b0a78"
      },
      "source": [
        "titanic_train.shape"
      ],
      "execution_count": 106,
      "outputs": [
        {
          "output_type": "execute_result",
          "data": {
            "text/plain": [
              "(889, 8)"
            ]
          },
          "metadata": {
            "tags": []
          },
          "execution_count": 106
        }
      ]
    },
    {
      "cell_type": "code",
      "metadata": {
        "colab": {
          "base_uri": "https://localhost:8080/"
        },
        "id": "8zw1UCmc-n4T",
        "outputId": "fcda0a0b-76cf-4854-df32-764bc2d56d97"
      },
      "source": [
        "titanic_test.shape"
      ],
      "execution_count": 107,
      "outputs": [
        {
          "output_type": "execute_result",
          "data": {
            "text/plain": [
              "(417, 7)"
            ]
          },
          "metadata": {
            "tags": []
          },
          "execution_count": 107
        }
      ]
    },
    {
      "cell_type": "code",
      "metadata": {
        "colab": {
          "base_uri": "https://localhost:8080/",
          "height": 136
        },
        "id": "fUNZnMkGYinJ",
        "outputId": "87ae90c7-d6f0-4da9-a4db-23fbc749a771"
      },
      "source": [
        "titanic_test.head(3)"
      ],
      "execution_count": 172,
      "outputs": [
        {
          "output_type": "execute_result",
          "data": {
            "text/html": [
              "<div>\n",
              "<style scoped>\n",
              "    .dataframe tbody tr th:only-of-type {\n",
              "        vertical-align: middle;\n",
              "    }\n",
              "\n",
              "    .dataframe tbody tr th {\n",
              "        vertical-align: top;\n",
              "    }\n",
              "\n",
              "    .dataframe thead th {\n",
              "        text-align: right;\n",
              "    }\n",
              "</style>\n",
              "<table border=\"1\" class=\"dataframe\">\n",
              "  <thead>\n",
              "    <tr style=\"text-align: right;\">\n",
              "      <th></th>\n",
              "      <th>Pclass</th>\n",
              "      <th>Sex</th>\n",
              "      <th>Age</th>\n",
              "      <th>SibSp</th>\n",
              "      <th>Parch</th>\n",
              "      <th>Fare</th>\n",
              "      <th>Embarked</th>\n",
              "    </tr>\n",
              "  </thead>\n",
              "  <tbody>\n",
              "    <tr>\n",
              "      <th>0</th>\n",
              "      <td>3</td>\n",
              "      <td>1</td>\n",
              "      <td>34.5</td>\n",
              "      <td>0</td>\n",
              "      <td>0</td>\n",
              "      <td>7.8292</td>\n",
              "      <td>1</td>\n",
              "    </tr>\n",
              "    <tr>\n",
              "      <th>1</th>\n",
              "      <td>3</td>\n",
              "      <td>0</td>\n",
              "      <td>47.0</td>\n",
              "      <td>1</td>\n",
              "      <td>0</td>\n",
              "      <td>7.0000</td>\n",
              "      <td>2</td>\n",
              "    </tr>\n",
              "    <tr>\n",
              "      <th>2</th>\n",
              "      <td>2</td>\n",
              "      <td>1</td>\n",
              "      <td>62.0</td>\n",
              "      <td>0</td>\n",
              "      <td>0</td>\n",
              "      <td>9.6875</td>\n",
              "      <td>1</td>\n",
              "    </tr>\n",
              "  </tbody>\n",
              "</table>\n",
              "</div>"
            ],
            "text/plain": [
              "   Pclass  Sex   Age  SibSp  Parch    Fare  Embarked\n",
              "0       3    1  34.5      0      0  7.8292         1\n",
              "1       3    0  47.0      1      0  7.0000         2\n",
              "2       2    1  62.0      0      0  9.6875         1"
            ]
          },
          "metadata": {
            "tags": []
          },
          "execution_count": 172
        }
      ]
    },
    {
      "cell_type": "code",
      "metadata": {
        "colab": {
          "base_uri": "https://localhost:8080/"
        },
        "id": "Os6NYORUFkcg",
        "outputId": "89e3453d-3ce1-4825-ea0d-f41db8671f28"
      },
      "source": [
        "titanic_train.Parch.unique()"
      ],
      "execution_count": 108,
      "outputs": [
        {
          "output_type": "execute_result",
          "data": {
            "text/plain": [
              "array([0, 1, 2, 5, 3, 4, 6])"
            ]
          },
          "metadata": {
            "tags": []
          },
          "execution_count": 108
        }
      ]
    },
    {
      "cell_type": "code",
      "metadata": {
        "colab": {
          "base_uri": "https://localhost:8080/",
          "height": 195
        },
        "id": "22KQP0rZEnSr",
        "outputId": "4476cc26-bcf9-439d-a858-47bc83ee6a35"
      },
      "source": [
        "titanic_train.head()"
      ],
      "execution_count": 109,
      "outputs": [
        {
          "output_type": "execute_result",
          "data": {
            "text/html": [
              "<div>\n",
              "<style scoped>\n",
              "    .dataframe tbody tr th:only-of-type {\n",
              "        vertical-align: middle;\n",
              "    }\n",
              "\n",
              "    .dataframe tbody tr th {\n",
              "        vertical-align: top;\n",
              "    }\n",
              "\n",
              "    .dataframe thead th {\n",
              "        text-align: right;\n",
              "    }\n",
              "</style>\n",
              "<table border=\"1\" class=\"dataframe\">\n",
              "  <thead>\n",
              "    <tr style=\"text-align: right;\">\n",
              "      <th></th>\n",
              "      <th>Survived</th>\n",
              "      <th>Pclass</th>\n",
              "      <th>Sex</th>\n",
              "      <th>Age</th>\n",
              "      <th>SibSp</th>\n",
              "      <th>Parch</th>\n",
              "      <th>Fare</th>\n",
              "      <th>Embarked</th>\n",
              "    </tr>\n",
              "  </thead>\n",
              "  <tbody>\n",
              "    <tr>\n",
              "      <th>0</th>\n",
              "      <td>0</td>\n",
              "      <td>3</td>\n",
              "      <td>male</td>\n",
              "      <td>22.0</td>\n",
              "      <td>1</td>\n",
              "      <td>0</td>\n",
              "      <td>7.2500</td>\n",
              "      <td>S</td>\n",
              "    </tr>\n",
              "    <tr>\n",
              "      <th>1</th>\n",
              "      <td>1</td>\n",
              "      <td>1</td>\n",
              "      <td>female</td>\n",
              "      <td>38.0</td>\n",
              "      <td>1</td>\n",
              "      <td>0</td>\n",
              "      <td>71.2833</td>\n",
              "      <td>C</td>\n",
              "    </tr>\n",
              "    <tr>\n",
              "      <th>2</th>\n",
              "      <td>1</td>\n",
              "      <td>3</td>\n",
              "      <td>female</td>\n",
              "      <td>26.0</td>\n",
              "      <td>0</td>\n",
              "      <td>0</td>\n",
              "      <td>7.9250</td>\n",
              "      <td>S</td>\n",
              "    </tr>\n",
              "    <tr>\n",
              "      <th>3</th>\n",
              "      <td>1</td>\n",
              "      <td>1</td>\n",
              "      <td>female</td>\n",
              "      <td>35.0</td>\n",
              "      <td>1</td>\n",
              "      <td>0</td>\n",
              "      <td>53.1000</td>\n",
              "      <td>S</td>\n",
              "    </tr>\n",
              "    <tr>\n",
              "      <th>4</th>\n",
              "      <td>0</td>\n",
              "      <td>3</td>\n",
              "      <td>male</td>\n",
              "      <td>35.0</td>\n",
              "      <td>0</td>\n",
              "      <td>0</td>\n",
              "      <td>8.0500</td>\n",
              "      <td>S</td>\n",
              "    </tr>\n",
              "  </tbody>\n",
              "</table>\n",
              "</div>"
            ],
            "text/plain": [
              "   Survived  Pclass     Sex   Age  SibSp  Parch     Fare Embarked\n",
              "0         0       3    male  22.0      1      0   7.2500        S\n",
              "1         1       1  female  38.0      1      0  71.2833        C\n",
              "2         1       3  female  26.0      0      0   7.9250        S\n",
              "3         1       1  female  35.0      1      0  53.1000        S\n",
              "4         0       3    male  35.0      0      0   8.0500        S"
            ]
          },
          "metadata": {
            "tags": []
          },
          "execution_count": 109
        }
      ]
    },
    {
      "cell_type": "markdown",
      "metadata": {
        "id": "ldXmx5uJ9lMC"
      },
      "source": [
        "####iv.Accuracy\n",
        "*   Checking that the column entries were correct.\n"
      ]
    },
    {
      "cell_type": "code",
      "metadata": {
        "colab": {
          "base_uri": "https://localhost:8080/"
        },
        "id": "58MZEZZk9zJG",
        "outputId": "e8841a1f-9729-4346-c257-76c255d7c1d0"
      },
      "source": [
        "titanic_train.Survived.value_counts()"
      ],
      "execution_count": 110,
      "outputs": [
        {
          "output_type": "execute_result",
          "data": {
            "text/plain": [
              "0    549\n",
              "1    340\n",
              "Name: Survived, dtype: int64"
            ]
          },
          "metadata": {
            "tags": []
          },
          "execution_count": 110
        }
      ]
    },
    {
      "cell_type": "code",
      "metadata": {
        "colab": {
          "base_uri": "https://localhost:8080/"
        },
        "id": "oUn4fZhC90Ba",
        "outputId": "c84d1f3a-254b-48d5-9ca4-d5ca970a432b"
      },
      "source": [
        "titanic_train.Pclass.value_counts()"
      ],
      "execution_count": 111,
      "outputs": [
        {
          "output_type": "execute_result",
          "data": {
            "text/plain": [
              "3    491\n",
              "1    214\n",
              "2    184\n",
              "Name: Pclass, dtype: int64"
            ]
          },
          "metadata": {
            "tags": []
          },
          "execution_count": 111
        }
      ]
    },
    {
      "cell_type": "code",
      "metadata": {
        "colab": {
          "base_uri": "https://localhost:8080/"
        },
        "id": "QtVKbr8T9z01",
        "outputId": "e099a382-8ff2-4d69-fa56-652aa688e90e"
      },
      "source": [
        "titanic_train.Sex.value_counts()"
      ],
      "execution_count": 112,
      "outputs": [
        {
          "output_type": "execute_result",
          "data": {
            "text/plain": [
              "male      577\n",
              "female    312\n",
              "Name: Sex, dtype: int64"
            ]
          },
          "metadata": {
            "tags": []
          },
          "execution_count": 112
        }
      ]
    },
    {
      "cell_type": "code",
      "metadata": {
        "colab": {
          "base_uri": "https://localhost:8080/"
        },
        "id": "U6dClUVw-MI-",
        "outputId": "cb055b59-c26e-4f27-db87-9ef7dfbf048e"
      },
      "source": [
        "titanic_train.Age.value_counts()"
      ],
      "execution_count": 113,
      "outputs": [
        {
          "output_type": "execute_result",
          "data": {
            "text/plain": [
              "28.00    202\n",
              "24.00     30\n",
              "22.00     27\n",
              "18.00     26\n",
              "30.00     25\n",
              "        ... \n",
              "55.50      1\n",
              "70.50      1\n",
              "66.00      1\n",
              "23.50      1\n",
              "0.42       1\n",
              "Name: Age, Length: 88, dtype: int64"
            ]
          },
          "metadata": {
            "tags": []
          },
          "execution_count": 113
        }
      ]
    },
    {
      "cell_type": "code",
      "metadata": {
        "colab": {
          "base_uri": "https://localhost:8080/"
        },
        "id": "U_iUPfDQ-MW2",
        "outputId": "c72e96aa-136d-436a-c4d8-ffefa1d36dfc"
      },
      "source": [
        "titanic_train.Fare.value_counts()"
      ],
      "execution_count": 114,
      "outputs": [
        {
          "output_type": "execute_result",
          "data": {
            "text/plain": [
              "8.0500     43\n",
              "13.0000    42\n",
              "7.8958     38\n",
              "7.7500     34\n",
              "26.0000    31\n",
              "           ..\n",
              "7.8000      1\n",
              "13.8583     1\n",
              "7.6292      1\n",
              "15.0500     1\n",
              "8.6833      1\n",
              "Name: Fare, Length: 247, dtype: int64"
            ]
          },
          "metadata": {
            "tags": []
          },
          "execution_count": 114
        }
      ]
    },
    {
      "cell_type": "code",
      "metadata": {
        "colab": {
          "base_uri": "https://localhost:8080/"
        },
        "id": "XDmbRw869_D6",
        "outputId": "4f1dabcd-0372-45d7-b4ca-96b4236f68d4"
      },
      "source": [
        "titanic_train.Parch.value_counts()"
      ],
      "execution_count": 115,
      "outputs": [
        {
          "output_type": "execute_result",
          "data": {
            "text/plain": [
              "0    676\n",
              "1    118\n",
              "2     80\n",
              "5      5\n",
              "3      5\n",
              "4      4\n",
              "6      1\n",
              "Name: Parch, dtype: int64"
            ]
          },
          "metadata": {
            "tags": []
          },
          "execution_count": 115
        }
      ]
    },
    {
      "cell_type": "code",
      "metadata": {
        "colab": {
          "base_uri": "https://localhost:8080/"
        },
        "id": "Wlk72DQ49_0S",
        "outputId": "a3dd5242-8a65-472c-c257-ea00e246dfcc"
      },
      "source": [
        "titanic_train.Embarked.value_counts()"
      ],
      "execution_count": 116,
      "outputs": [
        {
          "output_type": "execute_result",
          "data": {
            "text/plain": [
              "S    644\n",
              "C    168\n",
              "Q     77\n",
              "Name: Embarked, dtype: int64"
            ]
          },
          "metadata": {
            "tags": []
          },
          "execution_count": 116
        }
      ]
    },
    {
      "cell_type": "code",
      "metadata": {
        "colab": {
          "base_uri": "https://localhost:8080/",
          "height": 350
        },
        "id": "f068Il9LCwBA",
        "outputId": "4a5e2404-f8f0-4926-a57a-a695c337d2f9"
      },
      "source": [
        "#using a boxplot check for outliers\n",
        "sns.boxplot(titanic_train['Age'])"
      ],
      "execution_count": 117,
      "outputs": [
        {
          "output_type": "stream",
          "text": [
            "/usr/local/lib/python3.6/dist-packages/seaborn/_decorators.py:43: FutureWarning: Pass the following variable as a keyword arg: x. From version 0.12, the only valid positional argument will be `data`, and passing other arguments without an explicit keyword will result in an error or misinterpretation.\n",
            "  FutureWarning\n"
          ],
          "name": "stderr"
        },
        {
          "output_type": "execute_result",
          "data": {
            "text/plain": [
              "<matplotlib.axes._subplots.AxesSubplot at 0x7f3eebbb2550>"
            ]
          },
          "metadata": {
            "tags": []
          },
          "execution_count": 117
        },
        {
          "output_type": "display_data",
          "data": {
            "image/png": "[encoded data removed]",
            "text/plain": [
              "<Figure size 432x288 with 1 Axes>"
            ]
          },
          "metadata": {
            "tags": [],
            "needs_background": "light"
          }
        }
      ]
    },
    {
      "cell_type": "code",
      "metadata": {
        "colab": {
          "base_uri": "https://localhost:8080/",
          "height": 296
        },
        "id": "SDCHmoivHxYL",
        "outputId": "34badc6a-a939-41b0-dd79-07dc689c02e3"
      },
      "source": [
        "sns.boxplot(x=titanic_train['SibSp'])\n"
      ],
      "execution_count": 118,
      "outputs": [
        {
          "output_type": "execute_result",
          "data": {
            "text/plain": [
              "<matplotlib.axes._subplots.AxesSubplot at 0x7f3eebc59828>"
            ]
          },
          "metadata": {
            "tags": []
          },
          "execution_count": 118
        },
        {
          "output_type": "display_data",
          "data": {
            "image/png": "[encoded data removed]",
            "text/plain": [
              "<Figure size 432x288 with 1 Axes>"
            ]
          },
          "metadata": {
            "tags": [],
            "needs_background": "light"
          }
        }
      ]
    },
    {
      "cell_type": "code",
      "metadata": {
        "id": "0pCynSEOFUEa"
      },
      "source": [
        "#Doing away with outliers\n",
        "#df = titanic_train[['Age','SibSp']]\n",
        "#q3 = df.quantile(0.75)\n",
        "#q1 = df.quantile(0.25)\n",
        "#iqr = q3-q1\n",
        "#iqr\n",
        "\n",
        "#df = df[~((df<(q1-1.5*iqr)) | (df>(q3+1.5*iqr))).any(axis=1)]\n",
        "#titanic_train[['Age','SibSp']] = df\n"
      ],
      "execution_count": 119,
      "outputs": []
    },
    {
      "cell_type": "code",
      "metadata": {
        "id": "iabcapABG1j0"
      },
      "source": [
        "#sns.boxplot(titanic_train['Age'])"
      ],
      "execution_count": 120,
      "outputs": []
    },
    {
      "cell_type": "code",
      "metadata": {
        "id": "njx3bX6PE5Fj"
      },
      "source": [
        "#using a boxplot check for outliers in SibSp\n",
        "#sns.boxplot(titanic_train['SibSp'])"
      ],
      "execution_count": 121,
      "outputs": []
    },
    {
      "cell_type": "code",
      "metadata": {
        "id": "938Y2DCQFBsY"
      },
      "source": [
        "#q1 = titanic_train.quantile(0.25)\n",
        "#q3 = titanic_train.quantile(0.75)\n",
        "#iqr = q3 - q1"
      ],
      "execution_count": 122,
      "outputs": []
    },
    {
      "cell_type": "code",
      "metadata": {
        "id": "gtei8hgYjLqy"
      },
      "source": [
        "#outliers\n",
        "#Q3 = df.quantile(0.75)\n",
        "#Q1 = df.quantile(0.25)\n",
        "#IQR = Q3-Q1\n",
        "#IQR\n",
        "\n",
        "#df.df[~((df<(Q1-1.5*IQR)) | (df>(Q3+1.5*IQR))).any(axis=1)]\n",
        "#df.shape"
      ],
      "execution_count": 123,
      "outputs": []
    },
    {
      "cell_type": "markdown",
      "metadata": {
        "id": "cFUjrgXfm0O-"
      },
      "source": [
        "###Exploratory Data Analysis"
      ]
    },
    {
      "cell_type": "markdown",
      "metadata": {
        "id": "_JyMgw3AmFKN"
      },
      "source": [
        "####Univariate Analysis."
      ]
    },
    {
      "cell_type": "code",
      "metadata": {
        "id": "x8oF_5OrmYno"
      },
      "source": [
        "#distplotgs\n",
        "#barplots\n",
        "#histograms\n",
        "#piecharts\n",
        "#linecharts"
      ],
      "execution_count": 124,
      "outputs": []
    },
    {
      "cell_type": "code",
      "metadata": {
        "colab": {
          "base_uri": "https://localhost:8080/"
        },
        "id": "EHahSVrnKZ06",
        "outputId": "e1d1d228-4aed-4ed3-f6e4-7b6fc9a47e60"
      },
      "source": [
        "titanic_train.columns"
      ],
      "execution_count": 125,
      "outputs": [
        {
          "output_type": "execute_result",
          "data": {
            "text/plain": [
              "Index(['Survived', 'Pclass', 'Sex', 'Age', 'SibSp', 'Parch', 'Fare',\n",
              "       'Embarked'],\n",
              "      dtype='object')"
            ]
          },
          "metadata": {
            "tags": []
          },
          "execution_count": 125
        }
      ]
    },
    {
      "cell_type": "markdown",
      "metadata": {
        "id": "eCjs3NzNRwKY"
      },
      "source": [
        "Age"
      ]
    },
    {
      "cell_type": "code",
      "metadata": {
        "colab": {
          "base_uri": "https://localhost:8080/"
        },
        "id": "qRNevd3LR1iv",
        "outputId": "b8eb2937-c231-461a-877b-0a429925af99"
      },
      "source": [
        "titanic_train.Age.describe()"
      ],
      "execution_count": 126,
      "outputs": [
        {
          "output_type": "execute_result",
          "data": {
            "text/plain": [
              "count    889.000000\n",
              "mean      29.315152\n",
              "std       12.984932\n",
              "min        0.420000\n",
              "25%       22.000000\n",
              "50%       28.000000\n",
              "75%       35.000000\n",
              "max       80.000000\n",
              "Name: Age, dtype: float64"
            ]
          },
          "metadata": {
            "tags": []
          },
          "execution_count": 126
        }
      ]
    },
    {
      "cell_type": "code",
      "metadata": {
        "colab": {
          "base_uri": "https://localhost:8080/",
          "height": 458
        },
        "id": "0rS0MhuUKebL",
        "outputId": "9cb14d69-20d5-4e45-9b67-5c152219afaf"
      },
      "source": [
        "#Distribution of age\n",
        "fig,axes = plt.subplots(figsize=(8,6))\n",
        "sns.distplot(titanic_train.Age, hist=True,kde =True, label = 'Age')"
      ],
      "execution_count": 127,
      "outputs": [
        {
          "output_type": "stream",
          "text": [
            "/usr/local/lib/python3.6/dist-packages/seaborn/distributions.py:2551: FutureWarning: `distplot` is a deprecated function and will be removed in a future version. Please adapt your code to use either `displot` (a figure-level function with similar flexibility) or `histplot` (an axes-level function for histograms).\n",
            "  warnings.warn(msg, FutureWarning)\n"
          ],
          "name": "stderr"
        },
        {
          "output_type": "execute_result",
          "data": {
            "text/plain": [
              "<matplotlib.axes._subplots.AxesSubplot at 0x7f3eebcdcf28>"
            ]
          },
          "metadata": {
            "tags": []
          },
          "execution_count": 127
        },
        {
          "output_type": "display_data",
          "data": {
            "image/png": "[encoded data removed]",
            "text/plain": [
              "<Figure size 576x432 with 1 Axes>"
            ]
          },
          "metadata": {
            "tags": [],
            "needs_background": "light"
          }
        }
      ]
    },
    {
      "cell_type": "markdown",
      "metadata": {
        "id": "IUKaPtw0R9pb"
      },
      "source": [
        "P Class"
      ]
    },
    {
      "cell_type": "code",
      "metadata": {
        "colab": {
          "base_uri": "https://localhost:8080/",
          "height": 458
        },
        "id": "APQpov_3Keha",
        "outputId": "e247d593-a717-4d37-b25c-78fa7381c38c"
      },
      "source": [
        "#countplot of Passenger class\n",
        "\n",
        "fig,axes = plt.subplots(figsize=(8,6))\n",
        "sns.countplot(titanic_train['Pclass'])\n"
      ],
      "execution_count": 128,
      "outputs": [
        {
          "output_type": "stream",
          "text": [
            "/usr/local/lib/python3.6/dist-packages/seaborn/_decorators.py:43: FutureWarning: Pass the following variable as a keyword arg: x. From version 0.12, the only valid positional argument will be `data`, and passing other arguments without an explicit keyword will result in an error or misinterpretation.\n",
            "  FutureWarning\n"
          ],
          "name": "stderr"
        },
        {
          "output_type": "execute_result",
          "data": {
            "text/plain": [
              "<matplotlib.axes._subplots.AxesSubplot at 0x7f3eeecf8390>"
            ]
          },
          "metadata": {
            "tags": []
          },
          "execution_count": 128
        },
        {
          "output_type": "display_data",
          "data": {
            "image/png": "[encoded data removed]",
            "text/plain": [
              "<Figure size 576x432 with 1 Axes>"
            ]
          },
          "metadata": {
            "tags": [],
            "needs_background": "light"
          }
        }
      ]
    },
    {
      "cell_type": "code",
      "metadata": {
        "colab": {
          "base_uri": "https://localhost:8080/",
          "height": 295
        },
        "id": "x8x6zN0lKemN",
        "outputId": "0409310b-66c0-4ac5-9a4e-d1968e45b936"
      },
      "source": [
        "#bar grouph that shows the number of Embarked\n",
        "\n",
        "x=titanic_train.Embarked.unique()\n",
        "plt.bar(x , titanic_train['Embarked'].value_counts())\n",
        "plt.ylabel(\"Number\")\n",
        "plt.xlabel(\"Port of Embarking\")\n",
        "plt.title(\"Graph showing the Number of Passengers and Port of Embarking.\")\n",
        "plt.show()"
      ],
      "execution_count": 129,
      "outputs": [
        {
          "output_type": "display_data",
          "data": {
            "image/png": "[encoded data removed]",
            "text/plain": [
              "<Figure size 432x288 with 1 Axes>"
            ]
          },
          "metadata": {
            "tags": [],
            "needs_background": "light"
          }
        }
      ]
    },
    {
      "cell_type": "markdown",
      "metadata": {
        "id": "S4VJIWTPTrwa"
      },
      "source": [
        "######C = Cherbourg, Q = Queenstown, S = Southampton"
      ]
    },
    {
      "cell_type": "markdown",
      "metadata": {
        "id": "3gqLvI4EU6oN"
      },
      "source": [
        "Survived"
      ]
    },
    {
      "cell_type": "code",
      "metadata": {
        "colab": {
          "base_uri": "https://localhost:8080/",
          "height": 458
        },
        "id": "tjbQPfGaKed6",
        "outputId": "eb4271d2-3b4f-416b-c8d8-0040af09a51d"
      },
      "source": [
        "fig,axes = plt.subplots(figsize=(8,6))\n",
        "sns.countplot('Survived',data=titanic_train )\n"
      ],
      "execution_count": 130,
      "outputs": [
        {
          "output_type": "stream",
          "text": [
            "/usr/local/lib/python3.6/dist-packages/seaborn/_decorators.py:43: FutureWarning: Pass the following variable as a keyword arg: x. From version 0.12, the only valid positional argument will be `data`, and passing other arguments without an explicit keyword will result in an error or misinterpretation.\n",
            "  FutureWarning\n"
          ],
          "name": "stderr"
        },
        {
          "output_type": "execute_result",
          "data": {
            "text/plain": [
              "<matplotlib.axes._subplots.AxesSubplot at 0x7f3eec0ce860>"
            ]
          },
          "metadata": {
            "tags": []
          },
          "execution_count": 130
        },
        {
          "output_type": "display_data",
          "data": {
            "image/png": "[encoded data removed]",
            "text/plain": [
              "<Figure size 576x432 with 1 Axes>"
            ]
          },
          "metadata": {
            "tags": [],
            "needs_background": "light"
          }
        }
      ]
    },
    {
      "cell_type": "markdown",
      "metadata": {
        "id": "zcQrtXjEViTn"
      },
      "source": [
        "Number of survivers by Sex"
      ]
    },
    {
      "cell_type": "code",
      "metadata": {
        "colab": {
          "base_uri": "https://localhost:8080/",
          "height": 337
        },
        "id": "21W91pJRKeZC",
        "outputId": "4009ce6e-a3ad-4237-ec42-e11f7e824f03"
      },
      "source": [
        "df=titanic_train[['Survived','Sex']].groupby(['Sex']).mean().reset_index()\n",
        "df\n",
        "#plotting a bar graph to represent that\n",
        "fig = plt.figure(figsize = (10, 5)) \n",
        "plt.bar(df.Sex,df.Survived,width = 0.4)\n"
      ],
      "execution_count": 131,
      "outputs": [
        {
          "output_type": "execute_result",
          "data": {
            "text/plain": [
              "<BarContainer object of 2 artists>"
            ]
          },
          "metadata": {
            "tags": []
          },
          "execution_count": 131
        },
        {
          "output_type": "display_data",
          "data": {
            "image/png": "[encoded data removed]",
            "text/plain": [
              "<Figure size 720x360 with 1 Axes>"
            ]
          },
          "metadata": {
            "tags": [],
            "needs_background": "light"
          }
        }
      ]
    },
    {
      "cell_type": "markdown",
      "metadata": {
        "id": "Fljr1sACmZ3V"
      },
      "source": [
        "####Bivariate Analysis"
      ]
    },
    {
      "cell_type": "markdown",
      "metadata": {
        "id": "qMrzzGKJscSx"
      },
      "source": [
        "#####Multicollinearity"
      ]
    },
    {
      "cell_type": "code",
      "metadata": {
        "colab": {
          "base_uri": "https://localhost:8080/",
          "height": 195
        },
        "id": "E65RjSJMCcz6",
        "outputId": "30e5d2a0-b0e9-402a-ea81-f8c6f1c8b27f"
      },
      "source": [
        "titanic_train.head()"
      ],
      "execution_count": 132,
      "outputs": [
        {
          "output_type": "execute_result",
          "data": {
            "text/html": [
              "<div>\n",
              "<style scoped>\n",
              "    .dataframe tbody tr th:only-of-type {\n",
              "        vertical-align: middle;\n",
              "    }\n",
              "\n",
              "    .dataframe tbody tr th {\n",
              "        vertical-align: top;\n",
              "    }\n",
              "\n",
              "    .dataframe thead th {\n",
              "        text-align: right;\n",
              "    }\n",
              "</style>\n",
              "<table border=\"1\" class=\"dataframe\">\n",
              "  <thead>\n",
              "    <tr style=\"text-align: right;\">\n",
              "      <th></th>\n",
              "      <th>Survived</th>\n",
              "      <th>Pclass</th>\n",
              "      <th>Sex</th>\n",
              "      <th>Age</th>\n",
              "      <th>SibSp</th>\n",
              "      <th>Parch</th>\n",
              "      <th>Fare</th>\n",
              "      <th>Embarked</th>\n",
              "    </tr>\n",
              "  </thead>\n",
              "  <tbody>\n",
              "    <tr>\n",
              "      <th>0</th>\n",
              "      <td>0</td>\n",
              "      <td>3</td>\n",
              "      <td>male</td>\n",
              "      <td>22.0</td>\n",
              "      <td>1</td>\n",
              "      <td>0</td>\n",
              "      <td>7.2500</td>\n",
              "      <td>S</td>\n",
              "    </tr>\n",
              "    <tr>\n",
              "      <th>1</th>\n",
              "      <td>1</td>\n",
              "      <td>1</td>\n",
              "      <td>female</td>\n",
              "      <td>38.0</td>\n",
              "      <td>1</td>\n",
              "      <td>0</td>\n",
              "      <td>71.2833</td>\n",
              "      <td>C</td>\n",
              "    </tr>\n",
              "    <tr>\n",
              "      <th>2</th>\n",
              "      <td>1</td>\n",
              "      <td>3</td>\n",
              "      <td>female</td>\n",
              "      <td>26.0</td>\n",
              "      <td>0</td>\n",
              "      <td>0</td>\n",
              "      <td>7.9250</td>\n",
              "      <td>S</td>\n",
              "    </tr>\n",
              "    <tr>\n",
              "      <th>3</th>\n",
              "      <td>1</td>\n",
              "      <td>1</td>\n",
              "      <td>female</td>\n",
              "      <td>35.0</td>\n",
              "      <td>1</td>\n",
              "      <td>0</td>\n",
              "      <td>53.1000</td>\n",
              "      <td>S</td>\n",
              "    </tr>\n",
              "    <tr>\n",
              "      <th>4</th>\n",
              "      <td>0</td>\n",
              "      <td>3</td>\n",
              "      <td>male</td>\n",
              "      <td>35.0</td>\n",
              "      <td>0</td>\n",
              "      <td>0</td>\n",
              "      <td>8.0500</td>\n",
              "      <td>S</td>\n",
              "    </tr>\n",
              "  </tbody>\n",
              "</table>\n",
              "</div>"
            ],
            "text/plain": [
              "   Survived  Pclass     Sex   Age  SibSp  Parch     Fare Embarked\n",
              "0         0       3    male  22.0      1      0   7.2500        S\n",
              "1         1       1  female  38.0      1      0  71.2833        C\n",
              "2         1       3  female  26.0      0      0   7.9250        S\n",
              "3         1       1  female  35.0      1      0  53.1000        S\n",
              "4         0       3    male  35.0      0      0   8.0500        S"
            ]
          },
          "metadata": {
            "tags": []
          },
          "execution_count": 132
        }
      ]
    },
    {
      "cell_type": "code",
      "metadata": {
        "id": "bHM6UwI_4BHI"
      },
      "source": [
        "#Labe Encoding features \n",
        "from sklearn.preprocessing import LabelEncoder\n",
        "\n",
        "le = LabelEncoder()\n",
        "titanic_train['Sex'] = le.fit_transform(titanic_train['Sex'])\n",
        "titanic_train['Embarked'] = le.fit_transform(titanic_train['Embarked'])\n",
        "\n",
        "titanic_test['Sex'] = le.fit_transform(titanic_test['Sex'])\n",
        "titanic_test['Embarked'] = le.fit_transform(titanic_test['Embarked'])\n"
      ],
      "execution_count": 133,
      "outputs": []
    },
    {
      "cell_type": "code",
      "metadata": {
        "colab": {
          "base_uri": "https://localhost:8080/"
        },
        "id": "joN4oOmX5NL3",
        "outputId": "b5f1db89-05e1-4fcb-fa12-da11897f2246"
      },
      "source": [
        "titanic_train.dtypes"
      ],
      "execution_count": 134,
      "outputs": [
        {
          "output_type": "execute_result",
          "data": {
            "text/plain": [
              "Survived      int64\n",
              "Pclass        int64\n",
              "Sex           int64\n",
              "Age         float64\n",
              "SibSp         int64\n",
              "Parch         int64\n",
              "Fare        float64\n",
              "Embarked      int64\n",
              "dtype: object"
            ]
          },
          "metadata": {
            "tags": []
          },
          "execution_count": 134
        }
      ]
    },
    {
      "cell_type": "markdown",
      "metadata": {
        "id": "OOGxzv985dlR"
      },
      "source": [
        "correlations"
      ]
    },
    {
      "cell_type": "code",
      "metadata": {
        "colab": {
          "base_uri": "https://localhost:8080/",
          "height": 713
        },
        "id": "QN6nGdH132D5",
        "outputId": "0305a7d9-3fc3-4b1e-c745-054c017ee738"
      },
      "source": [
        "#checking for correlation btwn features\n",
        "\n",
        "plt.subplots(figsize=(15,15))\n",
        "sns.heatmap(titanic_train.corr(),annot=True)\n"
      ],
      "execution_count": 135,
      "outputs": [
        {
          "output_type": "execute_result",
          "data": {
            "text/plain": [
              "<matplotlib.axes._subplots.AxesSubplot at 0x7f3eeec913c8>"
            ]
          },
          "metadata": {
            "tags": []
          },
          "execution_count": 135
        },
        {
          "output_type": "display_data",
          "data": {
            "image/png": "[encoded data removed]",
            "text/plain": [
              "<Figure size 1080x1080 with 2 Axes>"
            ]
          },
          "metadata": {
            "tags": [],
            "needs_background": "light"
          }
        }
      ]
    },
    {
      "cell_type": "markdown",
      "metadata": {
        "id": "nnei5qlZ8P0Q"
      },
      "source": [
        "From the heat map no features in the dataset have really high correlation."
      ]
    },
    {
      "cell_type": "code",
      "metadata": {
        "id": "85aeDQI532Ms"
      },
      "source": [
        "#chedcking for highly correlated values\n",
        "corr_matrix = titanic_train.corr()\n",
        "\n",
        "# Select upper triangle of correlation matrix\n",
        "upper = corr_matrix.where(np.triu(np.ones(corr_matrix.shape), k=1).astype(np.bool))\n",
        "\n",
        "# Find index of feature columns with correlation greater than 0.95\n",
        "to_drop = [column for column in upper.columns if any(upper[column] > 0.95)]"
      ],
      "execution_count": 136,
      "outputs": []
    },
    {
      "cell_type": "code",
      "metadata": {
        "colab": {
          "base_uri": "https://localhost:8080/",
          "height": 402
        },
        "id": "E9frK4Dx32Jv",
        "outputId": "63f5ceee-62e4-4101-f44b-4fb46c3f3347"
      },
      "source": [
        "# Drop features \n",
        "titanic_train.drop(titanic_train[to_drop], axis=1)"
      ],
      "execution_count": 137,
      "outputs": [
        {
          "output_type": "execute_result",
          "data": {
            "text/html": [
              "<div>\n",
              "<style scoped>\n",
              "    .dataframe tbody tr th:only-of-type {\n",
              "        vertical-align: middle;\n",
              "    }\n",
              "\n",
              "    .dataframe tbody tr th {\n",
              "        vertical-align: top;\n",
              "    }\n",
              "\n",
              "    .dataframe thead th {\n",
              "        text-align: right;\n",
              "    }\n",
              "</style>\n",
              "<table border=\"1\" class=\"dataframe\">\n",
              "  <thead>\n",
              "    <tr style=\"text-align: right;\">\n",
              "      <th></th>\n",
              "      <th>Survived</th>\n",
              "      <th>Pclass</th>\n",
              "      <th>Sex</th>\n",
              "      <th>Age</th>\n",
              "      <th>SibSp</th>\n",
              "      <th>Parch</th>\n",
              "      <th>Fare</th>\n",
              "      <th>Embarked</th>\n",
              "    </tr>\n",
              "  </thead>\n",
              "  <tbody>\n",
              "    <tr>\n",
              "      <th>0</th>\n",
              "      <td>0</td>\n",
              "      <td>3</td>\n",
              "      <td>1</td>\n",
              "      <td>22.0</td>\n",
              "      <td>1</td>\n",
              "      <td>0</td>\n",
              "      <td>7.2500</td>\n",
              "      <td>2</td>\n",
              "    </tr>\n",
              "    <tr>\n",
              "      <th>1</th>\n",
              "      <td>1</td>\n",
              "      <td>1</td>\n",
              "      <td>0</td>\n",
              "      <td>38.0</td>\n",
              "      <td>1</td>\n",
              "      <td>0</td>\n",
              "      <td>71.2833</td>\n",
              "      <td>0</td>\n",
              "    </tr>\n",
              "    <tr>\n",
              "      <th>2</th>\n",
              "      <td>1</td>\n",
              "      <td>3</td>\n",
              "      <td>0</td>\n",
              "      <td>26.0</td>\n",
              "      <td>0</td>\n",
              "      <td>0</td>\n",
              "      <td>7.9250</td>\n",
              "      <td>2</td>\n",
              "    </tr>\n",
              "    <tr>\n",
              "      <th>3</th>\n",
              "      <td>1</td>\n",
              "      <td>1</td>\n",
              "      <td>0</td>\n",
              "      <td>35.0</td>\n",
              "      <td>1</td>\n",
              "      <td>0</td>\n",
              "      <td>53.1000</td>\n",
              "      <td>2</td>\n",
              "    </tr>\n",
              "    <tr>\n",
              "      <th>4</th>\n",
              "      <td>0</td>\n",
              "      <td>3</td>\n",
              "      <td>1</td>\n",
              "      <td>35.0</td>\n",
              "      <td>0</td>\n",
              "      <td>0</td>\n",
              "      <td>8.0500</td>\n",
              "      <td>2</td>\n",
              "    </tr>\n",
              "    <tr>\n",
              "      <th>...</th>\n",
              "      <td>...</td>\n",
              "      <td>...</td>\n",
              "      <td>...</td>\n",
              "      <td>...</td>\n",
              "      <td>...</td>\n",
              "      <td>...</td>\n",
              "      <td>...</td>\n",
              "      <td>...</td>\n",
              "    </tr>\n",
              "    <tr>\n",
              "      <th>886</th>\n",
              "      <td>0</td>\n",
              "      <td>2</td>\n",
              "      <td>1</td>\n",
              "      <td>27.0</td>\n",
              "      <td>0</td>\n",
              "      <td>0</td>\n",
              "      <td>13.0000</td>\n",
              "      <td>2</td>\n",
              "    </tr>\n",
              "    <tr>\n",
              "      <th>887</th>\n",
              "      <td>1</td>\n",
              "      <td>1</td>\n",
              "      <td>0</td>\n",
              "      <td>19.0</td>\n",
              "      <td>0</td>\n",
              "      <td>0</td>\n",
              "      <td>30.0000</td>\n",
              "      <td>2</td>\n",
              "    </tr>\n",
              "    <tr>\n",
              "      <th>888</th>\n",
              "      <td>0</td>\n",
              "      <td>3</td>\n",
              "      <td>0</td>\n",
              "      <td>28.0</td>\n",
              "      <td>1</td>\n",
              "      <td>2</td>\n",
              "      <td>23.4500</td>\n",
              "      <td>2</td>\n",
              "    </tr>\n",
              "    <tr>\n",
              "      <th>889</th>\n",
              "      <td>1</td>\n",
              "      <td>1</td>\n",
              "      <td>1</td>\n",
              "      <td>26.0</td>\n",
              "      <td>0</td>\n",
              "      <td>0</td>\n",
              "      <td>30.0000</td>\n",
              "      <td>0</td>\n",
              "    </tr>\n",
              "    <tr>\n",
              "      <th>890</th>\n",
              "      <td>0</td>\n",
              "      <td>3</td>\n",
              "      <td>1</td>\n",
              "      <td>32.0</td>\n",
              "      <td>0</td>\n",
              "      <td>0</td>\n",
              "      <td>7.7500</td>\n",
              "      <td>1</td>\n",
              "    </tr>\n",
              "  </tbody>\n",
              "</table>\n",
              "<p>889 rows × 8 columns</p>\n",
              "</div>"
            ],
            "text/plain": [
              "     Survived  Pclass  Sex   Age  SibSp  Parch     Fare  Embarked\n",
              "0           0       3    1  22.0      1      0   7.2500         2\n",
              "1           1       1    0  38.0      1      0  71.2833         0\n",
              "2           1       3    0  26.0      0      0   7.9250         2\n",
              "3           1       1    0  35.0      1      0  53.1000         2\n",
              "4           0       3    1  35.0      0      0   8.0500         2\n",
              "..        ...     ...  ...   ...    ...    ...      ...       ...\n",
              "886         0       2    1  27.0      0      0  13.0000         2\n",
              "887         1       1    0  19.0      0      0  30.0000         2\n",
              "888         0       3    0  28.0      1      2  23.4500         2\n",
              "889         1       1    1  26.0      0      0  30.0000         0\n",
              "890         0       3    1  32.0      0      0   7.7500         1\n",
              "\n",
              "[889 rows x 8 columns]"
            ]
          },
          "metadata": {
            "tags": []
          },
          "execution_count": 137
        }
      ]
    },
    {
      "cell_type": "markdown",
      "metadata": {
        "id": "FMmCfplj8BiB"
      },
      "source": [
        " Above were just a few lines of code to identify and get rid of any available highly correlated features.Apparently the dataset remained the same."
      ]
    },
    {
      "cell_type": "code",
      "metadata": {
        "id": "1cryGO96mcPV"
      },
      "source": [
        "#scatter\n",
        "#line chart\n",
        "#stacked bar chart\n",
        "#bargraph"
      ],
      "execution_count": 138,
      "outputs": []
    },
    {
      "cell_type": "code",
      "metadata": {
        "colab": {
          "base_uri": "https://localhost:8080/",
          "height": 136
        },
        "id": "L3kvsvgl-kCC",
        "outputId": "3bbdbe66-a4a6-4935-8acd-775feb04b6c0"
      },
      "source": [
        "titanic_train.head(3)"
      ],
      "execution_count": 139,
      "outputs": [
        {
          "output_type": "execute_result",
          "data": {
            "text/html": [
              "<div>\n",
              "<style scoped>\n",
              "    .dataframe tbody tr th:only-of-type {\n",
              "        vertical-align: middle;\n",
              "    }\n",
              "\n",
              "    .dataframe tbody tr th {\n",
              "        vertical-align: top;\n",
              "    }\n",
              "\n",
              "    .dataframe thead th {\n",
              "        text-align: right;\n",
              "    }\n",
              "</style>\n",
              "<table border=\"1\" class=\"dataframe\">\n",
              "  <thead>\n",
              "    <tr style=\"text-align: right;\">\n",
              "      <th></th>\n",
              "      <th>Survived</th>\n",
              "      <th>Pclass</th>\n",
              "      <th>Sex</th>\n",
              "      <th>Age</th>\n",
              "      <th>SibSp</th>\n",
              "      <th>Parch</th>\n",
              "      <th>Fare</th>\n",
              "      <th>Embarked</th>\n",
              "    </tr>\n",
              "  </thead>\n",
              "  <tbody>\n",
              "    <tr>\n",
              "      <th>0</th>\n",
              "      <td>0</td>\n",
              "      <td>3</td>\n",
              "      <td>1</td>\n",
              "      <td>22.0</td>\n",
              "      <td>1</td>\n",
              "      <td>0</td>\n",
              "      <td>7.2500</td>\n",
              "      <td>2</td>\n",
              "    </tr>\n",
              "    <tr>\n",
              "      <th>1</th>\n",
              "      <td>1</td>\n",
              "      <td>1</td>\n",
              "      <td>0</td>\n",
              "      <td>38.0</td>\n",
              "      <td>1</td>\n",
              "      <td>0</td>\n",
              "      <td>71.2833</td>\n",
              "      <td>0</td>\n",
              "    </tr>\n",
              "    <tr>\n",
              "      <th>2</th>\n",
              "      <td>1</td>\n",
              "      <td>3</td>\n",
              "      <td>0</td>\n",
              "      <td>26.0</td>\n",
              "      <td>0</td>\n",
              "      <td>0</td>\n",
              "      <td>7.9250</td>\n",
              "      <td>2</td>\n",
              "    </tr>\n",
              "  </tbody>\n",
              "</table>\n",
              "</div>"
            ],
            "text/plain": [
              "   Survived  Pclass  Sex   Age  SibSp  Parch     Fare  Embarked\n",
              "0         0       3    1  22.0      1      0   7.2500         2\n",
              "1         1       1    0  38.0      1      0  71.2833         0\n",
              "2         1       3    0  26.0      0      0   7.9250         2"
            ]
          },
          "metadata": {
            "tags": []
          },
          "execution_count": 139
        }
      ]
    },
    {
      "cell_type": "markdown",
      "metadata": {
        "id": "pvQ1-oKEAV6l"
      },
      "source": [
        "Taking into account the bivariate Analysis, For feature survived, 0 are those who didn't survive and 1 the survivors."
      ]
    },
    {
      "cell_type": "markdown",
      "metadata": {
        "id": "q7JbBn0yC4aw"
      },
      "source": [
        "Survivors in different Passenger Classes"
      ]
    },
    {
      "cell_type": "code",
      "metadata": {
        "colab": {
          "base_uri": "https://localhost:8080/",
          "height": 295
        },
        "id": "Ej3Y_tWtAWQy",
        "outputId": "72857bf0-c081-436c-940a-0d7fa92a1fb1"
      },
      "source": [
        "sns.countplot(x='Pclass', hue='Survived', data=titanic_train, palette='muted')\n",
        "plt.title('Survivors in Different Passenger Classes')\n",
        "plt.show()"
      ],
      "execution_count": 140,
      "outputs": [
        {
          "output_type": "display_data",
          "data": {
            "image/png": "[encoded data removed]",
            "text/plain": [
              "<Figure size 432x288 with 1 Axes>"
            ]
          },
          "metadata": {
            "tags": [],
            "needs_background": "light"
          }
        }
      ]
    },
    {
      "cell_type": "markdown",
      "metadata": {
        "id": "SM5B4gA9DFLH"
      },
      "source": [
        "Survivors to Different Destinataions."
      ]
    },
    {
      "cell_type": "code",
      "metadata": {
        "colab": {
          "base_uri": "https://localhost:8080/",
          "height": 295
        },
        "id": "0g8vEyTJBRaE",
        "outputId": "ed912b24-b6a6-4adf-b696-873926a42043"
      },
      "source": [
        "sns.countplot(x='Embarked', hue='Survived', data=titanic_train, palette='mako')\n",
        "plt.title('Survivors to Different Destinataions.')\n",
        "plt.show()"
      ],
      "execution_count": 162,
      "outputs": [
        {
          "output_type": "display_data",
          "data": {
            "image/png": "[encoded data removed]",
            "text/plain": [
              "<Figure size 432x288 with 1 Axes>"
            ]
          },
          "metadata": {
            "tags": [],
            "needs_background": "light"
          }
        }
      ]
    },
    {
      "cell_type": "markdown",
      "metadata": {
        "id": "XHcp1_GqDNWD"
      },
      "source": [
        "Condition of Survivors in relation to Gender."
      ]
    },
    {
      "cell_type": "code",
      "metadata": {
        "colab": {
          "base_uri": "https://localhost:8080/",
          "height": 295
        },
        "id": "hYypptUtBgVz",
        "outputId": "25a67c53-9b40-49f4-8e04-b2b5ffec06f6"
      },
      "source": [
        "sns.countplot(x='Sex', hue='Survived', data=titanic_train, palette='muted')\n",
        "plt.title('Survivors in relation to Gender')\n",
        "plt.show()"
      ],
      "execution_count": 163,
      "outputs": [
        {
          "output_type": "display_data",
          "data": {
            "image/png": "[encoded data removed]",
            "text/plain": [
              "<Figure size 432x288 with 1 Axes>"
            ]
          },
          "metadata": {
            "tags": [],
            "needs_background": "light"
          }
        }
      ]
    },
    {
      "cell_type": "markdown",
      "metadata": {
        "id": "_jeKJtHEDZEX"
      },
      "source": [
        "Relationship of Feature Fare to Survived"
      ]
    },
    {
      "cell_type": "code",
      "metadata": {
        "colab": {
          "base_uri": "https://localhost:8080/",
          "height": 348
        },
        "id": "0rNOmutKPyUB",
        "outputId": "1a031e0e-e368-4f22-aaa1-b5ad56432415"
      },
      "source": [
        "df = titanic_train.groupby(['Survived'])['Fare'].mean()\n",
        "plt.figure(figsize=(10, 5))\n",
        "plt.ylabel('Fare')\n",
        "plt.xlabel('Survived')\n",
        "df.plot.bar()"
      ],
      "execution_count": 143,
      "outputs": [
        {
          "output_type": "execute_result",
          "data": {
            "text/plain": [
              "<matplotlib.axes._subplots.AxesSubplot at 0x7f3eeec01080>"
            ]
          },
          "metadata": {
            "tags": []
          },
          "execution_count": 143
        },
        {
          "output_type": "display_data",
          "data": {
            "image/png": "[encoded data removed]",
            "text/plain": [
              "<Figure size 720x360 with 1 Axes>"
            ]
          },
          "metadata": {
            "tags": [],
            "needs_background": "light"
          }
        }
      ]
    },
    {
      "cell_type": "markdown",
      "metadata": {
        "id": "SwhgpVF0Fb4p"
      },
      "source": [
        "Mean of fare per Class"
      ]
    },
    {
      "cell_type": "code",
      "metadata": {
        "colab": {
          "base_uri": "https://localhost:8080/",
          "height": 351
        },
        "id": "RJF-5EDXPVGU",
        "outputId": "c4493c38-d926-4ac2-b2db-3e6b562887c4"
      },
      "source": [
        "df1 = titanic_train.groupby(['Pclass'])['Fare'].mean()\n",
        "plt.figure(figsize=(10, 5))\n",
        "plt.xlabel('Fare')\n",
        "df1.plot.barh()"
      ],
      "execution_count": 144,
      "outputs": [
        {
          "output_type": "execute_result",
          "data": {
            "text/plain": [
              "<matplotlib.axes._subplots.AxesSubplot at 0x7f3eebf66d30>"
            ]
          },
          "metadata": {
            "tags": []
          },
          "execution_count": 144
        },
        {
          "output_type": "display_data",
          "data": {
            "image/png": "[encoded data removed]",
            "text/plain": [
              "<Figure size 720x360 with 1 Axes>"
            ]
          },
          "metadata": {
            "tags": [],
            "needs_background": "light"
          }
        }
      ]
    },
    {
      "cell_type": "markdown",
      "metadata": {
        "id": "AvQ_mNZrPl0b"
      },
      "source": [
        "Age and whether they survived or not\n"
      ]
    },
    {
      "cell_type": "code",
      "metadata": {
        "colab": {
          "base_uri": "https://localhost:8080/",
          "height": 295
        },
        "id": "-d11XkGV-hjy",
        "outputId": "ae830489-02cb-4539-e66b-b82b5c59866c"
      },
      "source": [
        "plt.scatter(titanic_train.Age,titanic_train.Fare)\n",
        "plt.ylabel('Fares')\n",
        "plt.xlabel('Age')\n",
        "plt.title('Distribution of Fares over Ages of People onboard')\n",
        "plt.show()"
      ],
      "execution_count": 145,
      "outputs": [
        {
          "output_type": "display_data",
          "data": {
            "image/png": "[encoded data removed]",
            "text/plain": [
              "<Figure size 432x288 with 1 Axes>"
            ]
          },
          "metadata": {
            "tags": [],
            "needs_background": "light"
          }
        }
      ]
    },
    {
      "cell_type": "markdown",
      "metadata": {
        "id": "pByPAdl7GsKv"
      },
      "source": [
        "Fares to Embarking Ports"
      ]
    },
    {
      "cell_type": "code",
      "metadata": {
        "colab": {
          "base_uri": "https://localhost:8080/",
          "height": 295
        },
        "id": "LG137sZ8-xBB",
        "outputId": "f212eb96-abe7-4b76-982d-8f70ac54acf9"
      },
      "source": [
        "plt.bar(titanic_train.Embarked,titanic_train.Fare)\n",
        "plt.ylabel('Fare')\n",
        "plt.xlabel('Ports')\n",
        "plt.title('Fares to different Ports')\n",
        "plt.show()"
      ],
      "execution_count": 146,
      "outputs": [
        {
          "output_type": "display_data",
          "data": {
            "image/png": "[encoded data removed]",
            "text/plain": [
              "<Figure size 432x288 with 1 Axes>"
            ]
          },
          "metadata": {
            "tags": [],
            "needs_background": "light"
          }
        }
      ]
    },
    {
      "cell_type": "markdown",
      "metadata": {
        "id": "6y4yJHI-nFN4"
      },
      "source": [
        "###Implementing Soution."
      ]
    },
    {
      "cell_type": "markdown",
      "metadata": {
        "id": "Zu1ufnYZmc_b"
      },
      "source": [
        "####K Nearest Neighbors.\n",
        "\n"
      ]
    },
    {
      "cell_type": "code",
      "metadata": {
        "id": "d0v55SZg84BJ"
      },
      "source": [
        "#Modelling libraries\n",
        "from sklearn.model_selection import train_test_split\n",
        "from sklearn.neighbors import KNeighborsClassifier\n",
        "from sklearn.metrics import classification_report, confusion_matrix\n",
        "from sklearn.discriminant_analysis import LinearDiscriminantAnalysis as LDA\n",
        "from sklearn.model_selection import GridSearchCV"
      ],
      "execution_count": 147,
      "outputs": []
    },
    {
      "cell_type": "code",
      "metadata": {
        "colab": {
          "base_uri": "https://localhost:8080/"
        },
        "id": "O2kN0qxk84H3",
        "outputId": "b45631d9-0c09-46db-ab81-80dfea68a343"
      },
      "source": [
        "#Splitting the dataset to features and labels\n",
        "X = titanic_train.drop(['Survived'],axis=1).values\n",
        "y = titanic_train['Survived'].values\n",
        "\n",
        "#Split the data into train and test set\n",
        "from sklearn.model_selection import train_test_split\n",
        "X_train ,X_test,y_train,y_test = train_test_split(X,y,test_size=0.2,random_state=0)\n",
        "\n",
        "#standard scaling\n",
        "from sklearn.preprocessing import StandardScaler\n",
        "scaler = StandardScaler()\n",
        "scaler.fit(X_train)\n",
        "\n",
        "X_train = scaler.transform(X_train)\n",
        "X_test = scaler.transform(X_test)\n",
        "\n",
        "#Training the model\n",
        "classifier = KNeighborsClassifier()\n",
        "classifier.fit(X_train, y_train)\n",
        "\n",
        "#Making predictions\n",
        "y_pred = classifier.predict(X_test)\n",
        "y_pred"
      ],
      "execution_count": 148,
      "outputs": [
        {
          "output_type": "execute_result",
          "data": {
            "text/plain": [
              "array([1, 0, 1, 0, 0, 0, 0, 0, 0, 1, 1, 1, 1, 0, 1, 0, 1, 0, 0, 1, 1, 1,\n",
              "       0, 0, 0, 0, 1, 1, 0, 0, 1, 0, 0, 1, 0, 0, 0, 0, 0, 0, 1, 0, 1, 0,\n",
              "       1, 0, 0, 0, 0, 0, 0, 0, 0, 1, 0, 0, 1, 1, 0, 0, 1, 0, 0, 0, 0, 0,\n",
              "       1, 1, 1, 1, 1, 0, 0, 0, 1, 0, 0, 0, 1, 0, 0, 1, 1, 1, 1, 0, 0, 0,\n",
              "       0, 0, 0, 1, 1, 0, 0, 1, 1, 1, 1, 1, 0, 1, 0, 1, 0, 1, 0, 0, 1, 1,\n",
              "       1, 1, 0, 0, 0, 0, 0, 0, 0, 0, 0, 0, 0, 0, 0, 0, 0, 0, 0, 0, 0, 0,\n",
              "       1, 0, 0, 1, 1, 1, 1, 0, 1, 0, 1, 0, 1, 0, 0, 0, 0, 0, 0, 0, 1, 0,\n",
              "       0, 0, 1, 1, 0, 0, 0, 0, 1, 0, 0, 0, 0, 1, 0, 1, 0, 0, 0, 0, 0, 0,\n",
              "       0, 1])"
            ]
          },
          "metadata": {
            "tags": []
          },
          "execution_count": 148
        }
      ]
    },
    {
      "cell_type": "code",
      "metadata": {
        "colab": {
          "base_uri": "https://localhost:8080/"
        },
        "id": "yycqliwjP8mu",
        "outputId": "74a08e22-ee48-4d61-88d3-5a9eedbf44bb"
      },
      "source": [
        "##Evaluating the algorithm\n",
        "from sklearn.metrics import classification_report, confusion_matrix\n",
        "print(confusion_matrix(y_test, y_pred))\n",
        "print(classification_report(y_test, y_pred))"
      ],
      "execution_count": 149,
      "outputs": [
        {
          "output_type": "stream",
          "text": [
            "[[85 20]\n",
            " [31 42]]\n",
            "              precision    recall  f1-score   support\n",
            "\n",
            "           0       0.73      0.81      0.77       105\n",
            "           1       0.68      0.58      0.62        73\n",
            "\n",
            "    accuracy                           0.71       178\n",
            "   macro avg       0.71      0.69      0.70       178\n",
            "weighted avg       0.71      0.71      0.71       178\n",
            "\n"
          ],
          "name": "stdout"
        }
      ]
    },
    {
      "cell_type": "markdown",
      "metadata": {
        "id": "4R8ScGyfDsaH"
      },
      "source": [
        "My base KNN model offers an accuracy of 71% which is fairly not bad but hoping this improves after some parameter tuning."
      ]
    },
    {
      "cell_type": "markdown",
      "metadata": {
        "id": "t4tnlQziPmcM"
      },
      "source": [
        "Using a hyper-parameter tuned KNN."
      ]
    },
    {
      "cell_type": "markdown",
      "metadata": {
        "id": "8odT5bLqy3CI"
      },
      "source": [
        "80-20"
      ]
    },
    {
      "cell_type": "code",
      "metadata": {
        "colab": {
          "base_uri": "https://localhost:8080/"
        },
        "id": "kB1rdJDBtxlr",
        "outputId": "a9b3fdd9-31c3-4ca4-c97e-e067b2ceffa1"
      },
      "source": [
        "#Splitting the dataset to features and labels\n",
        "X = titanic_train.drop(['Survived'],axis=1).values\n",
        "y = titanic_train['Survived'].values\n",
        "\n",
        "#Split the data into train and test set\n",
        "from sklearn.model_selection import train_test_split\n",
        "X_train ,X_test,y_train,y_test = train_test_split(X,y,test_size=0.2,random_state=0)\n",
        "\n",
        "#standard scaling\n",
        "from sklearn.preprocessing import StandardScaler\n",
        "scaler = StandardScaler()\n",
        "scaler.fit(X_train)\n",
        "\n",
        "X_train = scaler.transform(X_train)\n",
        "X_test = scaler.transform(X_test)\n",
        "\n",
        "#from sklearn.discriminant_analysis import LinearDiscriminantAnalysis as LDA\n",
        "lda = LDA(n_components=3)\n",
        "X_train = lda.fit_transform(X_train, y_train)\n",
        "X_test = lda.transform(X_test)\n"
      ],
      "execution_count": 150,
      "outputs": [
        {
          "output_type": "stream",
          "text": [
            "/usr/local/lib/python3.6/dist-packages/sklearn/discriminant_analysis.py:463: ChangedBehaviorWarning: n_components cannot be larger than min(n_features, n_classes - 1). Using min(n_features, n_classes - 1) = min(7, 2 - 1) = 1 components.\n",
            "  ChangedBehaviorWarning)\n",
            "/usr/local/lib/python3.6/dist-packages/sklearn/discriminant_analysis.py:469: FutureWarning: In version 0.23, setting n_components > min(n_features, n_classes - 1) will raise a ValueError. You should set n_components to None (default), or a value smaller or equal to min(n_features, n_classes - 1).\n",
            "  warnings.warn(future_msg, FutureWarning)\n"
          ],
          "name": "stderr"
        }
      ]
    },
    {
      "cell_type": "code",
      "metadata": {
        "colab": {
          "base_uri": "https://localhost:8080/"
        },
        "id": "8KIvILOh84QG",
        "outputId": "fc21d2c4-cc06-4974-f8f8-93d9e78e61b5"
      },
      "source": [
        "#List the hyperparameters\n",
        "leaf_size = list(range(1, 50))\n",
        "n_neighbors= list(range(1, 30))\n",
        "p = [1, 2]\n",
        "\n",
        "hyperparameters = dict(leaf_size=leaf_size, n_neighbors=n_neighbors , p=p)\n",
        "\n",
        "#new knn objects\n",
        "classifier_2 = KNeighborsClassifier()\n",
        "clf = GridSearchCV(classifier_2, hyperparameters, cv=10)\n",
        "\n",
        "#fit model\n",
        "clf.fit(X_train, y_train)\n",
        "\n",
        "#best params\n",
        "clf.best_params_"
      ],
      "execution_count": 151,
      "outputs": [
        {
          "output_type": "execute_result",
          "data": {
            "text/plain": [
              "{'leaf_size': 1, 'n_neighbors': 28, 'p': 1}"
            ]
          },
          "metadata": {
            "tags": []
          },
          "execution_count": 151
        }
      ]
    },
    {
      "cell_type": "markdown",
      "metadata": {
        "id": "htpEOk2QEQl0"
      },
      "source": [
        "Gave hyperparameters; leaf_size a range between 1-50, n_neighbors a range of 1-50 and a p value of either 1 and 2 and let the grid search find the best."
      ]
    },
    {
      "cell_type": "code",
      "metadata": {
        "colab": {
          "base_uri": "https://localhost:8080/"
        },
        "id": "Itj0Tgu684D5",
        "outputId": "f6977011-55d8-4c0d-aa19-6d5ef7295c51"
      },
      "source": [
        "#making y predictions\n",
        "y_pred = clf.predict(X_test)\n",
        "print(y_pred)\n",
        "\n",
        "#model score\n",
        "print(clf.score(X_test,y_test))\n",
        "\n",
        "#Evaluating the algorithm\n",
        "from sklearn.metrics import classification_report, confusion_matrix\n",
        "#print(accuracy.score(y_test, y_pred))\n",
        "print(classification_report(y_test, y_pred))"
      ],
      "execution_count": 152,
      "outputs": [
        {
          "output_type": "stream",
          "text": [
            "[1 0 1 0 0 0 0 0 1 0 0 1 1 0 1 0 1 0 0 1 0 1 0 0 0 0 1 0 0 0 0 0 0 1 0 0 0\n",
            " 0 0 0 1 0 1 0 1 0 0 0 0 0 1 0 0 1 0 1 1 1 0 0 1 0 0 0 0 0 1 1 0 1 0 0 0 1\n",
            " 0 0 0 0 1 0 0 1 0 1 1 0 0 0 0 0 0 1 1 0 0 1 1 1 0 1 0 1 0 1 0 1 0 0 0 1 1\n",
            " 1 0 1 0 0 0 0 0 0 0 0 0 0 0 0 0 0 0 0 0 0 1 0 0 0 0 1 1 0 0 0 1 0 1 0 1 1\n",
            " 0 0 0 0 1 0 0 0 1 1 1 0 0 0 1 0 0 1 0 1 0 1 0 0 0 0 0 0 0 1]\n",
            "0.7303370786516854\n",
            "              precision    recall  f1-score   support\n",
            "\n",
            "           0       0.74      0.85      0.79       105\n",
            "           1       0.72      0.56      0.63        73\n",
            "\n",
            "    accuracy                           0.73       178\n",
            "   macro avg       0.73      0.70      0.71       178\n",
            "weighted avg       0.73      0.73      0.72       178\n",
            "\n"
          ],
          "name": "stdout"
        }
      ]
    },
    {
      "cell_type": "markdown",
      "metadata": {
        "id": "oIioMu3cEMPy"
      },
      "source": [
        "Upon tuning my KNN model, best parameters were leaf size =1,n_neighbors as 28 and a pvalue of 1 with a split of 20/80 my accuracy slightly increased to 73% which is a relatively fair improvement."
      ]
    },
    {
      "cell_type": "markdown",
      "metadata": {
        "id": "U6K2FGZJy7wV"
      },
      "source": [
        "70-30"
      ]
    },
    {
      "cell_type": "code",
      "metadata": {
        "colab": {
          "base_uri": "https://localhost:8080/"
        },
        "id": "P_4djCH8u48s",
        "outputId": "8f1c433f-5511-45cf-d057-8f0d9036b3e5"
      },
      "source": [
        "#Splitting the dataset to features and labels\n",
        "X = titanic_train.drop(['Survived'],axis=1).values\n",
        "y = titanic_train['Survived'].values\n",
        "\n",
        "#Split the data into train and test set\n",
        "from sklearn.model_selection import train_test_split\n",
        "X_train ,X_test,y_train,y_test = train_test_split(X,y,test_size=0.3,random_state=0)\n",
        "\n",
        "#standard scaling\n",
        "from sklearn.preprocessing import StandardScaler\n",
        "scaler = StandardScaler()\n",
        "scaler.fit(X_train)\n",
        "\n",
        "X_train = scaler.transform(X_train)\n",
        "X_test = scaler.transform(X_test)\n",
        "\n",
        "#from sklearn.discriminant_analysis import LinearDiscriminantAnalysis as LDA\n",
        "lda = LDA(n_components=3)\n",
        "X_train = lda.fit_transform(X_train, y_train)\n",
        "X_test = lda.transform(X_test)\n"
      ],
      "execution_count": 153,
      "outputs": [
        {
          "output_type": "stream",
          "text": [
            "/usr/local/lib/python3.6/dist-packages/sklearn/discriminant_analysis.py:463: ChangedBehaviorWarning: n_components cannot be larger than min(n_features, n_classes - 1). Using min(n_features, n_classes - 1) = min(7, 2 - 1) = 1 components.\n",
            "  ChangedBehaviorWarning)\n",
            "/usr/local/lib/python3.6/dist-packages/sklearn/discriminant_analysis.py:469: FutureWarning: In version 0.23, setting n_components > min(n_features, n_classes - 1) will raise a ValueError. You should set n_components to None (default), or a value smaller or equal to min(n_features, n_classes - 1).\n",
            "  warnings.warn(future_msg, FutureWarning)\n"
          ],
          "name": "stderr"
        }
      ]
    },
    {
      "cell_type": "code",
      "metadata": {
        "colab": {
          "base_uri": "https://localhost:8080/"
        },
        "id": "rJY-ObYJu5IS",
        "outputId": "929feb97-ee9d-42c3-8ba3-4bac2549fd91"
      },
      "source": [
        "#List the hyperparameters\n",
        "leaf_size = list(range(1, 50))\n",
        "n_neighbors= list(range(1, 30))\n",
        "p = [1, 2]\n",
        "\n",
        "hyperparameters = dict(leaf_size=leaf_size, n_neighbors=n_neighbors , p=p)\n",
        "\n",
        "#new knn objects\n",
        "classifier_2 = KNeighborsClassifier()\n",
        "clf = GridSearchCV(classifier_2, hyperparameters, cv=10)\n",
        "\n",
        "#fit model\n",
        "clf.fit(X_train, y_train)\n",
        "\n",
        "#best params\n",
        "clf.best_params_"
      ],
      "execution_count": 154,
      "outputs": [
        {
          "output_type": "execute_result",
          "data": {
            "text/plain": [
              "{'leaf_size': 1, 'n_neighbors': 10, 'p': 1}"
            ]
          },
          "metadata": {
            "tags": []
          },
          "execution_count": 154
        }
      ]
    },
    {
      "cell_type": "code",
      "metadata": {
        "colab": {
          "base_uri": "https://localhost:8080/"
        },
        "id": "WWtkeAH5u5Ds",
        "outputId": "b1e3438f-1514-4444-d181-40f71f8db43f"
      },
      "source": [
        "#making y predictions\n",
        "y_pred = clf.predict(X_test)\n",
        "print(y_pred)\n",
        "\n",
        "#model score\n",
        "print(clf.score(X_test,y_test))\n",
        "\n",
        "#Evaluating the algorithm\n",
        "from sklearn.metrics import classification_report, confusion_matrix\n",
        "print(confusion_matrix(y_test, y_pred))\n",
        "print(classification_report(y_test, y_pred))"
      ],
      "execution_count": 155,
      "outputs": [
        {
          "output_type": "stream",
          "text": [
            "[1 0 1 0 0 0 0 0 1 0 0 1 1 0 1 0 1 0 0 1 0 1 1 0 0 0 1 0 1 0 0 0 0 1 0 0 0\n",
            " 0 0 0 1 0 1 0 1 0 0 0 0 0 0 0 0 1 0 1 1 1 0 0 0 0 0 0 0 0 1 1 0 1 0 0 0 1\n",
            " 0 0 0 0 1 0 0 1 1 1 1 0 0 0 0 0 0 1 1 0 0 1 1 1 0 1 0 1 0 1 0 1 0 0 0 1 1\n",
            " 1 0 1 0 0 0 0 0 0 0 0 0 0 0 0 0 0 0 0 0 0 1 0 0 0 0 1 1 0 0 0 1 0 1 0 0 1\n",
            " 0 0 0 0 1 0 0 0 0 1 1 0 0 0 1 0 0 0 0 1 0 1 0 0 0 0 0 0 0 1 0 1 0 1 1 0 0\n",
            " 0 0 0 1 0 0 0 0 0 0 0 0 0 0 0 1 1 1 0 0 1 0 0 0 0 1 1 0 1 1 0 1 0 0 1 1 0\n",
            " 1 1 0 0 0 0 1 0 1 0 0 1 0 1 0 0 0 0 0 0 1 0 1 0 0 0 1 1 0 0 1 0 1 1 0 0 0\n",
            " 0 1 1 0 0 0 0 1]\n",
            "0.7677902621722846\n",
            "[[138  19]\n",
            " [ 43  67]]\n",
            "              precision    recall  f1-score   support\n",
            "\n",
            "           0       0.76      0.88      0.82       157\n",
            "           1       0.78      0.61      0.68       110\n",
            "\n",
            "    accuracy                           0.77       267\n",
            "   macro avg       0.77      0.74      0.75       267\n",
            "weighted avg       0.77      0.77      0.76       267\n",
            "\n"
          ],
          "name": "stdout"
        }
      ]
    },
    {
      "cell_type": "markdown",
      "metadata": {
        "id": "ZbdLVVN9FEkh"
      },
      "source": [
        "On my second try with a 70/30 split gave me a better accuracy now at 77%."
      ]
    },
    {
      "cell_type": "markdown",
      "metadata": {
        "id": "Zk7-dz80zI1_"
      },
      "source": [
        "60-40"
      ]
    },
    {
      "cell_type": "code",
      "metadata": {
        "colab": {
          "base_uri": "https://localhost:8080/"
        },
        "id": "goMmSqu0u5CB",
        "outputId": "c89de9ba-ebc9-4886-c473-da6a55937d4c"
      },
      "source": [
        "#Splitting the dataset to features and labels\n",
        "X = titanic_train.drop(['Survived'],axis=1).values\n",
        "y = titanic_train['Survived'].values\n",
        "\n",
        "#Split the data into train and test set\n",
        "from sklearn.model_selection import train_test_split\n",
        "X_train ,X_test,y_train,y_test = train_test_split(X,y,test_size=0.4,random_state=0)\n",
        "\n",
        "#standard scaling\n",
        "from sklearn.preprocessing import StandardScaler\n",
        "scaler = StandardScaler()\n",
        "scaler.fit(X_train)\n",
        "\n",
        "X_train = scaler.transform(X_train)\n",
        "X_test = scaler.transform(X_test)\n",
        "\n",
        "#from sklearn.discriminant_analysis import LinearDiscriminantAnalysis as LDA\n",
        "lda = LDA(n_components=3)\n",
        "X_train = lda.fit_transform(X_train, y_train)\n",
        "X_test = lda.transform(X_test)\n"
      ],
      "execution_count": 164,
      "outputs": [
        {
          "output_type": "stream",
          "text": [
            "/usr/local/lib/python3.6/dist-packages/sklearn/discriminant_analysis.py:463: ChangedBehaviorWarning: n_components cannot be larger than min(n_features, n_classes - 1). Using min(n_features, n_classes - 1) = min(7, 2 - 1) = 1 components.\n",
            "  ChangedBehaviorWarning)\n",
            "/usr/local/lib/python3.6/dist-packages/sklearn/discriminant_analysis.py:469: FutureWarning: In version 0.23, setting n_components > min(n_features, n_classes - 1) will raise a ValueError. You should set n_components to None (default), or a value smaller or equal to min(n_features, n_classes - 1).\n",
            "  warnings.warn(future_msg, FutureWarning)\n"
          ],
          "name": "stderr"
        }
      ]
    },
    {
      "cell_type": "code",
      "metadata": {
        "colab": {
          "base_uri": "https://localhost:8080/"
        },
        "id": "_92sXAVfu45A",
        "outputId": "ed4bb143-9170-43bf-9075-acc4fda31859"
      },
      "source": [
        "#List the hyperparameters\n",
        "leaf_size = list(range(1, 50))\n",
        "n_neighbors= list(range(1, 30))\n",
        "p = [1, 2]\n",
        "\n",
        "hyperparameters = dict(leaf_size=leaf_size, n_neighbors=n_neighbors , p=p)\n",
        "\n",
        "#new knn objects\n",
        "classifier_2 = KNeighborsClassifier()\n",
        "clf = GridSearchCV(classifier_2, hyperparameters, cv=10)\n",
        "\n",
        "#fit model\n",
        "clf.fit(X_train, y_train)\n",
        "\n",
        "#best params\n",
        "clf.best_params_"
      ],
      "execution_count": 165,
      "outputs": [
        {
          "output_type": "execute_result",
          "data": {
            "text/plain": [
              "{'leaf_size': 1, 'n_neighbors': 16, 'p': 1}"
            ]
          },
          "metadata": {
            "tags": []
          },
          "execution_count": 165
        }
      ]
    },
    {
      "cell_type": "code",
      "metadata": {
        "colab": {
          "base_uri": "https://localhost:8080/"
        },
        "id": "8uHbVmwzu42x",
        "outputId": "d9b9bc54-717a-4e42-9846-3931ff6bb7a6"
      },
      "source": [
        "#making y predictions\n",
        "y_pred = clf.predict(X_test)\n",
        "print(y_pred)\n",
        "\n",
        "#model score\n",
        "print(clf.score(X_test,y_test))\n",
        "\n",
        "#Evaluating the algorithm\n",
        "from sklearn.metrics import classification_report, confusion_matrix\n",
        "print(confusion_matrix(y_test, y_pred))\n",
        "print(classification_report(y_test, y_pred))"
      ],
      "execution_count": 166,
      "outputs": [
        {
          "output_type": "stream",
          "text": [
            "[1 0 1 0 0 0 0 0 0 0 0 1 1 0 1 0 1 0 0 1 0 1 0 0 0 0 0 0 0 0 0 0 0 1 0 0 0\n",
            " 0 0 0 1 0 1 0 1 0 0 0 0 0 0 0 0 1 0 0 1 1 0 0 1 0 0 0 0 0 1 1 0 1 0 0 0 1\n",
            " 0 0 0 0 0 0 0 1 0 1 1 0 0 0 0 0 0 1 1 0 0 1 1 1 0 1 0 1 0 1 0 1 0 0 0 1 1\n",
            " 1 0 0 0 0 0 0 0 0 0 0 0 0 0 0 0 0 0 0 0 0 1 0 0 0 0 1 1 0 0 0 1 0 1 0 1 1\n",
            " 0 0 0 0 1 0 0 0 0 1 1 0 0 0 1 0 0 0 0 1 0 1 0 0 0 0 0 0 0 1 0 1 0 1 1 0 0\n",
            " 0 0 0 1 0 0 0 0 0 0 0 0 0 0 0 1 1 1 0 0 1 0 0 0 0 1 1 0 1 1 0 1 0 0 1 1 0\n",
            " 1 1 0 0 0 0 1 0 1 0 0 1 0 1 0 0 0 0 0 0 1 0 0 0 0 0 1 1 0 0 1 0 1 1 0 0 0\n",
            " 0 0 1 0 0 0 0 1 0 0 1 0 0 0 0 0 0 0 0 0 0 0 1 0 0 0 0 0 0 1 0 0 1 0 0 0 0\n",
            " 0 0 1 0 0 1 1 0 0 0 1 0 0 0 0 0 0 0 1 0 0 0 0 1 1 0 0 0 1 0 0 1 1 0 0 0 0\n",
            " 0 0 0 0 1 1 1 1 0 0 0 1 0 1 0 0 0 0 0 1 0 0 0]\n",
            "0.7724719101123596\n",
            "[[196  20]\n",
            " [ 61  79]]\n",
            "              precision    recall  f1-score   support\n",
            "\n",
            "           0       0.76      0.91      0.83       216\n",
            "           1       0.80      0.56      0.66       140\n",
            "\n",
            "    accuracy                           0.77       356\n",
            "   macro avg       0.78      0.74      0.74       356\n",
            "weighted avg       0.78      0.77      0.76       356\n",
            "\n"
          ],
          "name": "stdout"
        }
      ]
    },
    {
      "cell_type": "markdown",
      "metadata": {
        "id": "yNBDwISiUt-e"
      },
      "source": [
        "Trying it out with a 60/40 split the accuracy remained the same."
      ]
    },
    {
      "cell_type": "markdown",
      "metadata": {
        "id": "PDHN_vOUpKPK"
      },
      "source": [
        "###Challenging the solution\n",
        "*   KNN was a faily okay model to perform this prediction but I think a logistic model would have done better since it's a classification model that separates labels that only have 2 sides of it. In this case 0 or 1.\n",
        "\n"
      ]
    },
    {
      "cell_type": "markdown",
      "metadata": {
        "id": "y6FHVAyRp8Dt"
      },
      "source": [
        "###Conclusion\n",
        "\n",
        "\n",
        "*  KNN model performs best when the base model is parameter tuned since it improves the accuracy.\n",
        "*   We achieve a mximum accuracy of 77% which was relatively fair and 83% for percentage of correct positive predictions.\n",
        "\n",
        "\n"
      ]
    }
  ]
}